{
 "cells": [
  {
   "cell_type": "code",
   "execution_count": 10,
   "metadata": {
    "scrolled": true
   },
   "outputs": [],
   "source": [
    "import pandas as pd\n",
    "import numpy as np\n",
    "import os\n",
    "import matplotlib.pyplot as plt"
   ]
  },
  {
   "cell_type": "code",
   "execution_count": 11,
   "metadata": {},
   "outputs": [
    {
     "name": "stderr",
     "output_type": "stream",
     "text": [
      "/home/pj/app/miniconda3/lib/python3.6/site-packages/ipykernel_launcher.py:11: ParserWarning: Falling back to the 'python' engine because the 'c' engine does not support regex separators (separators > 1 char and different from '\\s+' are interpreted as regex); you can avoid this warning by specifying engine='python'.\n",
      "  # This is added back by InteractiveShellApp.init_path()\n",
      "/home/pj/app/miniconda3/lib/python3.6/site-packages/ipykernel_launcher.py:12: ParserWarning: Falling back to the 'python' engine because the 'c' engine does not support regex separators (separators > 1 char and different from '\\s+' are interpreted as regex); you can avoid this warning by specifying engine='python'.\n",
      "  if sys.path[0] == '':\n",
      "/home/pj/app/miniconda3/lib/python3.6/site-packages/ipykernel_launcher.py:13: ParserWarning: Falling back to the 'python' engine because the 'c' engine does not support regex separators (separators > 1 char and different from '\\s+' are interpreted as regex); you can avoid this warning by specifying engine='python'.\n",
      "  del sys.path[0]\n"
     ]
    }
   ],
   "source": [
    "encoding = 'latin1'\n",
    "\n",
    "u_path = os.path.expanduser('data/ml-1m/users.dat')\n",
    "r_path = os.path.expanduser('data/ml-1m/ratings.dat')\n",
    "m_path = os.path.expanduser('data/ml-1m/movies.dat')\n",
    "\n",
    "u_names = ['user_id', 'gender', 'age', 'occupation', 'zip']\n",
    "r_names = ['user_id', 'movie_id', 'rating', 'timestamp']\n",
    "m_names = ['movie_id', 'title', 'genres']\n",
    "\n",
    "users = pd.read_csv(u_path, sep='::', header=None, names=u_names, encoding=encoding)\n",
    "ratings = pd.read_csv(r_path, sep='::', header=None, names=r_names, encoding=encoding)\n",
    "movies = pd.read_csv(m_path, sep='::', header=None, names=m_names, encoding=encoding)\n"
   ]
  },
  {
   "cell_type": "code",
   "execution_count": 16,
   "metadata": {},
   "outputs": [],
   "source": [
    "from time import time\n",
    "from datetime import datetime"
   ]
  },
  {
   "cell_type": "code",
   "execution_count": 18,
   "metadata": {
    "scrolled": true
   },
   "outputs": [
    {
     "data": {
      "text/plain": [
       "(datetime.datetime(2003, 3, 1, 1, 49, 50),\n",
       " datetime.datetime(2000, 4, 26, 7, 5, 32))"
      ]
     },
     "execution_count": 18,
     "metadata": {},
     "output_type": "execute_result"
    }
   ],
   "source": [
    "datetime.fromtimestamp(max(ratings.timestamp)), datetime.fromtimestamp(min(ratings.timestamp))"
   ]
  },
  {
   "cell_type": "code",
   "execution_count": 20,
   "metadata": {},
   "outputs": [
    {
     "data": {
      "text/html": [
       "<div>\n",
       "<style scoped>\n",
       "    .dataframe tbody tr th:only-of-type {\n",
       "        vertical-align: middle;\n",
       "    }\n",
       "\n",
       "    .dataframe tbody tr th {\n",
       "        vertical-align: top;\n",
       "    }\n",
       "\n",
       "    .dataframe thead th {\n",
       "        text-align: right;\n",
       "    }\n",
       "</style>\n",
       "<table border=\"1\" class=\"dataframe\">\n",
       "  <thead>\n",
       "    <tr style=\"text-align: right;\">\n",
       "      <th></th>\n",
       "      <th>user_id</th>\n",
       "      <th>movie_id</th>\n",
       "      <th>rating</th>\n",
       "      <th>timestamp</th>\n",
       "    </tr>\n",
       "  </thead>\n",
       "  <tbody>\n",
       "    <tr>\n",
       "      <th>0</th>\n",
       "      <td>1</td>\n",
       "      <td>1193</td>\n",
       "      <td>5</td>\n",
       "      <td>978300760</td>\n",
       "    </tr>\n",
       "    <tr>\n",
       "      <th>1</th>\n",
       "      <td>1</td>\n",
       "      <td>661</td>\n",
       "      <td>3</td>\n",
       "      <td>978302109</td>\n",
       "    </tr>\n",
       "    <tr>\n",
       "      <th>2</th>\n",
       "      <td>1</td>\n",
       "      <td>914</td>\n",
       "      <td>3</td>\n",
       "      <td>978301968</td>\n",
       "    </tr>\n",
       "    <tr>\n",
       "      <th>3</th>\n",
       "      <td>1</td>\n",
       "      <td>3408</td>\n",
       "      <td>4</td>\n",
       "      <td>978300275</td>\n",
       "    </tr>\n",
       "    <tr>\n",
       "      <th>4</th>\n",
       "      <td>1</td>\n",
       "      <td>2355</td>\n",
       "      <td>5</td>\n",
       "      <td>978824291</td>\n",
       "    </tr>\n",
       "    <tr>\n",
       "      <th>5</th>\n",
       "      <td>1</td>\n",
       "      <td>1197</td>\n",
       "      <td>3</td>\n",
       "      <td>978302268</td>\n",
       "    </tr>\n",
       "    <tr>\n",
       "      <th>6</th>\n",
       "      <td>1</td>\n",
       "      <td>1287</td>\n",
       "      <td>5</td>\n",
       "      <td>978302039</td>\n",
       "    </tr>\n",
       "    <tr>\n",
       "      <th>7</th>\n",
       "      <td>1</td>\n",
       "      <td>2804</td>\n",
       "      <td>5</td>\n",
       "      <td>978300719</td>\n",
       "    </tr>\n",
       "    <tr>\n",
       "      <th>8</th>\n",
       "      <td>1</td>\n",
       "      <td>594</td>\n",
       "      <td>4</td>\n",
       "      <td>978302268</td>\n",
       "    </tr>\n",
       "    <tr>\n",
       "      <th>9</th>\n",
       "      <td>1</td>\n",
       "      <td>919</td>\n",
       "      <td>4</td>\n",
       "      <td>978301368</td>\n",
       "    </tr>\n",
       "    <tr>\n",
       "      <th>10</th>\n",
       "      <td>1</td>\n",
       "      <td>595</td>\n",
       "      <td>5</td>\n",
       "      <td>978824268</td>\n",
       "    </tr>\n",
       "    <tr>\n",
       "      <th>11</th>\n",
       "      <td>1</td>\n",
       "      <td>938</td>\n",
       "      <td>4</td>\n",
       "      <td>978301752</td>\n",
       "    </tr>\n",
       "    <tr>\n",
       "      <th>12</th>\n",
       "      <td>1</td>\n",
       "      <td>2398</td>\n",
       "      <td>4</td>\n",
       "      <td>978302281</td>\n",
       "    </tr>\n",
       "    <tr>\n",
       "      <th>13</th>\n",
       "      <td>1</td>\n",
       "      <td>2918</td>\n",
       "      <td>4</td>\n",
       "      <td>978302124</td>\n",
       "    </tr>\n",
       "    <tr>\n",
       "      <th>14</th>\n",
       "      <td>1</td>\n",
       "      <td>1035</td>\n",
       "      <td>5</td>\n",
       "      <td>978301753</td>\n",
       "    </tr>\n",
       "    <tr>\n",
       "      <th>15</th>\n",
       "      <td>1</td>\n",
       "      <td>2791</td>\n",
       "      <td>4</td>\n",
       "      <td>978302188</td>\n",
       "    </tr>\n",
       "    <tr>\n",
       "      <th>16</th>\n",
       "      <td>1</td>\n",
       "      <td>2687</td>\n",
       "      <td>3</td>\n",
       "      <td>978824268</td>\n",
       "    </tr>\n",
       "    <tr>\n",
       "      <th>17</th>\n",
       "      <td>1</td>\n",
       "      <td>2018</td>\n",
       "      <td>4</td>\n",
       "      <td>978301777</td>\n",
       "    </tr>\n",
       "    <tr>\n",
       "      <th>18</th>\n",
       "      <td>1</td>\n",
       "      <td>3105</td>\n",
       "      <td>5</td>\n",
       "      <td>978301713</td>\n",
       "    </tr>\n",
       "    <tr>\n",
       "      <th>19</th>\n",
       "      <td>1</td>\n",
       "      <td>2797</td>\n",
       "      <td>4</td>\n",
       "      <td>978302039</td>\n",
       "    </tr>\n",
       "  </tbody>\n",
       "</table>\n",
       "</div>"
      ],
      "text/plain": [
       "    user_id  movie_id  rating  timestamp\n",
       "0         1      1193       5  978300760\n",
       "1         1       661       3  978302109\n",
       "2         1       914       3  978301968\n",
       "3         1      3408       4  978300275\n",
       "4         1      2355       5  978824291\n",
       "5         1      1197       3  978302268\n",
       "6         1      1287       5  978302039\n",
       "7         1      2804       5  978300719\n",
       "8         1       594       4  978302268\n",
       "9         1       919       4  978301368\n",
       "10        1       595       5  978824268\n",
       "11        1       938       4  978301752\n",
       "12        1      2398       4  978302281\n",
       "13        1      2918       4  978302124\n",
       "14        1      1035       5  978301753\n",
       "15        1      2791       4  978302188\n",
       "16        1      2687       3  978824268\n",
       "17        1      2018       4  978301777\n",
       "18        1      3105       5  978301713\n",
       "19        1      2797       4  978302039"
      ]
     },
     "execution_count": 20,
     "metadata": {},
     "output_type": "execute_result"
    }
   ],
   "source": [
    "ratings.head(20)"
   ]
  },
  {
   "cell_type": "code",
   "execution_count": 13,
   "metadata": {},
   "outputs": [
    {
     "data": {
      "text/plain": [
       "(1046454590, 956703932)"
      ]
     },
     "execution_count": 13,
     "metadata": {},
     "output_type": "execute_result"
    }
   ],
   "source": [
    "max(ratings.timestamp), min(ratings.timestamp)"
   ]
  },
  {
   "cell_type": "code",
   "execution_count": 125,
   "metadata": {},
   "outputs": [
    {
     "name": "stdout",
     "output_type": "stream",
     "text": [
      "3883 3883\n"
     ]
    }
   ],
   "source": [
    "def movie2index():\n",
    "    movie_ids = {}\n",
    "    counter = 0\n",
    "    for movie_id in movies.movie_id:\n",
    "        movie_ids[movie_id] = counter\n",
    "        counter += 1\n",
    "    print(len(movie_ids), len(movies))\n",
    "    return movie_ids\n",
    "movie_ids = movie2index()"
   ]
  },
  {
   "cell_type": "code",
   "execution_count": 126,
   "metadata": {},
   "outputs": [],
   "source": [
    "counter = 0\n",
    "for index, row in ratings.iterrows():\n",
    "    row['movie_id'] = movie_ids[row['movie_id']]\n",
    "max(ratings.movie_id)"
   ]
  },
  {
   "cell_type": "code",
   "execution_count": 127,
   "metadata": {},
   "outputs": [
    {
     "name": "stdout",
     "output_type": "stream",
     "text": [
      "575281\n"
     ]
    }
   ],
   "source": [
    "res = []\n",
    "for index, row in ratings.iterrows():\n",
    "    if row['rating'] > 3:\n",
    "        res.append([row['user_id'], row['movie_id']])\n",
    "print(len(res))"
   ]
  },
  {
   "cell_type": "code",
   "execution_count": 134,
   "metadata": {},
   "outputs": [
    {
     "name": "stdout",
     "output_type": "stream",
     "text": [
      "6034\n",
      "6034 6033\n"
     ]
    }
   ],
   "source": [
    "# 初始化u2m\n",
    "t_u2m = {}\n",
    "for item in res:\n",
    "    if (item[0] - 1) not in t_u2m:\n",
    "        t_u2m[item[0] - 1] = [item[1]]\n",
    "    else:\n",
    "        t_u2m[item[0] - 1].append(item[1])\n",
    "\n",
    "# 删除访问次数少于5的用户\n",
    "_u2m = {}\n",
    "for u_id in t_u2m:\n",
    "    if len(t_u2m[u_id]) >= 5:\n",
    "        _u2m[u_id] = t_u2m[u_id]\n",
    "print(len(_u2m))\n",
    "\n",
    "# 讲index变为用户id\n",
    "u2m = {}\n",
    "n_uid = 0\n",
    "for o_uid in range(6040):\n",
    "    if o_uid in _u2m:\n",
    "        u2m[n_uid] = _u2m[o_uid]\n",
    "        n_uid += 1\n",
    "print(len(u2m), max(u2m.keys()))"
   ]
  },
  {
   "cell_type": "code",
   "execution_count": 77,
   "metadata": {},
   "outputs": [],
   "source": [
    "test_index = np.random.choice(list(user2movie.keys()), size=(int(len(user2movie) * 0.3), ))"
   ]
  },
  {
   "cell_type": "code",
   "execution_count": 148,
   "metadata": {},
   "outputs": [],
   "source": [
    "# 初始化train_u2m and test_u2m\n",
    "train_u2m = {}\n",
    "test_u2m = {}\n",
    "for uid in u2m:\n",
    "    train_u2m[uid] = []\n",
    "    test_u2m[uid] = []\n",
    "\n",
    "for uid in u2m:\n",
    "    # _spliter = int(len(u2m[uid]) * 0.7)\n",
    "    train_indexs = np.random.choice(len(u2m[uid]),\n",
    "                                    int(len(u2m[uid]) * 0.7),\n",
    "                                    replace=False)\n",
    "    for (i, mid) in enumerate(u2m[uid]):\n",
    "        if i in train_indexs:\n",
    "            train_u2m[uid].append(mid)\n",
    "        else:\n",
    "            test_u2m[uid].append(mid)\n",
    "print(train_u2m[1], len(train_u2m[1]))\n",
    "print(test_u2m[1], len(test_u2m[1]))\n",
    "print(u2m[1], len(u2m[1]))"
   ]
  },
  {
   "cell_type": "code",
   "execution_count": 91,
   "metadata": {},
   "outputs": [
    {
     "data": {
      "text/plain": [
       "[<matplotlib.lines.Line2D at 0x7faa2a6f1908>]"
      ]
     },
     "execution_count": 91,
     "metadata": {},
     "output_type": "execute_result"
    },
    {
     "data": {
      "image/png": "[encoded data removed]",
      "text/plain": [
       "<matplotlib.figure.Figure at 0x7faa2c68c978>"
      ]
     },
     "metadata": {},
     "output_type": "display_data"
    }
   ],
   "source": [
    "plot_data = []\n",
    "for (key, items) in res_u2m.items():\n",
    "    plot_data.append(len(items))\n",
    "%matplotlib inline\n",
    "plt.plot(plot_data)"
   ]
  },
  {
   "cell_type": "code",
   "execution_count": null,
   "metadata": {},
   "outputs": [],
   "source": []
  }
 ],
 "metadata": {
  "kernelspec": {
   "display_name": "Python 3",
   "language": "python",
   "name": "python3"
  },
  "language_info": {
   "codemirror_mode": {
    "name": "ipython",
    "version": 3
   },
   "file_extension": ".py",
   "mimetype": "text/x-python",
   "name": "python",
   "nbconvert_exporter": "python",
   "pygments_lexer": "ipython3",
   "version": "3.6.3"
  }
 },
 "nbformat": 4,
 "nbformat_minor": 2
}
